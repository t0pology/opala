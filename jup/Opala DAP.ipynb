{
 "cells": [
  {
   "cell_type": "markdown",
   "id": "4dab76fe",
   "metadata": {},
   "source": [
    "Boilerplate, Initializing variables\n",
    "*(This can only be done once per kernel init)*"
   ]
  },
  {
   "cell_type": "code",
   "execution_count": 1,
   "id": "34b1ede2",
   "metadata": {},
   "outputs": [],
   "source": [
    "from picamera2 import Picamera2, Preview\n",
    "from libcamera import Transform, controls\n",
    "import time"
   ]
  },
  {
   "cell_type": "code",
   "execution_count": 2,
   "id": "b2dda4f0",
   "metadata": {},
   "outputs": [
    {
     "name": "stderr",
     "output_type": "stream",
     "text": [
      "[961:29:51.931434019] [25697] \u001b[1;32m INFO \u001b[1;37mCamera \u001b[1;34mcamera_manager.cpp:327 \u001b[0mlibcamera v0.4.0+53-29156679\n",
      "[961:29:52.061953995] [25718] \u001b[1;33m WARN \u001b[1;37mRPiSdn \u001b[1;34msdn.cpp:40 \u001b[0mUsing legacy SDN tuning - please consider moving SDN inside rpi.denoise\n",
      "[961:29:52.069184749] [25718] \u001b[1;32m INFO \u001b[1;37mRPI \u001b[1;34mvc4.cpp:447 \u001b[0mRegistered camera /base/soc/i2c0mux/i2c@1/imx708@1a to Unicam device /dev/media2 and ISP device /dev/media0\n",
      "[961:29:52.069668654] [25718] \u001b[1;32m INFO \u001b[1;37mRPI \u001b[1;34mpipeline_base.cpp:1121 \u001b[0mUsing configuration file '/usr/share/libcamera/pipeline/rpi/vc4/rpi_apps.yaml'\n"
     ]
    }
   ],
   "source": [
    "picam2 = Picamera2()"
   ]
  },
  {
   "cell_type": "markdown",
   "id": "6a3f1a77",
   "metadata": {},
   "source": [
    "Creates preview screen with parameters, then starts the service and takes a picture"
   ]
  },
  {
   "cell_type": "code",
   "execution_count": 3,
   "id": "982f4387",
   "metadata": {
    "scrolled": true
   },
   "outputs": [],
   "source": [
    "picam2.preview_configuration.size = (800, 600)\n",
    "picam2.preview_configuration.format = \"YUV420\"\n",
    "picam2.preview_configuration.transform=Transform(hflip=True, vflip=True)\n",
    "\n",
    "#transform=Transform(hflip=True, vflip=True)\n",
    "picam2.still_configuration.size = (800, 600)\n",
    "picam2.still_configuration.enable_raw()\n",
    "picam2.still_configuration.raw.size = picam2.sensor_resolution\n",
    "picam2.still_configuration.transform=Transform(hflip=True, vflip=True)\n",
    "\n",
    "#camera_config = picam2.create_preview_configuration()\n",
    "#picam2.configure(camera_config)"
   ]
  },
  {
   "cell_type": "code",
   "execution_count": 4,
   "id": "51bb8400",
   "metadata": {},
   "outputs": [],
   "source": [
    "# init preview screen with parameters\n",
    "#picam2.start_preview(Preview.QTGL, x=100, y=200, width=800, height=600,\n",
    "#transform = Transform(hflip=1, vflip=1))\n",
    "picam2.title_fields = [\"ExposureTime\", \"AnalogueGain\"]"
   ]
  },
  {
   "cell_type": "code",
   "execution_count": 5,
   "id": "ee8cf803",
   "metadata": {
    "scrolled": false
   },
   "outputs": [
    {
     "name": "stderr",
     "output_type": "stream",
     "text": [
      "[961:29:52.816805679] [25697] \u001b[1;32m INFO \u001b[1;37mCamera \u001b[1;34mcamera.cpp:1202 \u001b[0mconfiguring streams: (0) 800x600-YUV420 (1) 1536x864-SRGGB10_CSI2P\n",
      "[961:29:52.817879113] [25718] \u001b[1;32m INFO \u001b[1;37mRPI \u001b[1;34mvc4.cpp:622 \u001b[0mSensor: /base/soc/i2c0mux/i2c@1/imx708@1a - Selected sensor format: 1536x864-SRGGB10_1X10 - Selected unicam format: 1536x864-pRAA\n"
     ]
    }
   ],
   "source": [
    "# starts picam2 service, captures file\n",
    "picam2.start(\"preview\", show_preview=True)\n",
    "picam2.set_controls({\"AfMode\": controls.AfModeEnum.Continuous})\n",
    "\n",
    "time.sleep(2)\n",
    "#picam2.start_and_capture_file(\"helloworld.jpg\")"
   ]
  },
  {
   "cell_type": "code",
   "execution_count": 6,
   "id": "7c73dd81",
   "metadata": {
    "scrolled": true
   },
   "outputs": [
    {
     "name": "stderr",
     "output_type": "stream",
     "text": [
      "[961:30:03.799854627] [25722] \u001b[1;32m INFO \u001b[1;37mCamera \u001b[1;34mcamera.cpp:1202 \u001b[0mconfiguring streams: (0) 800x600-BGR888 (1) 4608x2592-SRGGB10_CSI2P\n",
      "[961:30:03.820178978] [25718] \u001b[1;32m INFO \u001b[1;37mRPI \u001b[1;34mvc4.cpp:622 \u001b[0mSensor: /base/soc/i2c0mux/i2c@1/imx708@1a - Selected sensor format: 4608x2592-SRGGB10_1X10 - Selected unicam format: 4608x2592-pRAA\n",
      "[961:30:06.223214999] [25722] \u001b[1;32m INFO \u001b[1;37mCamera \u001b[1;34mcamera.cpp:1202 \u001b[0mconfiguring streams: (0) 800x600-YUV420 (1) 1536x864-SRGGB10_CSI2P\n",
      "[961:30:06.231423249] [25718] \u001b[1;32m INFO \u001b[1;37mRPI \u001b[1;34mvc4.cpp:622 \u001b[0mSensor: /base/soc/i2c0mux/i2c@1/imx708@1a - Selected sensor format: 1536x864-SRGGB10_1X10 - Selected unicam format: 1536x864-pRAA\n"
     ]
    },
    {
     "data": {
      "text/plain": [
       "{'SensorBlackLevels': (4096, 4096, 4096, 4096),\n",
       " 'ExposureTime': 59994,\n",
       " 'ColourCorrectionMatrix': (1.7214878797531128,\n",
       "  -0.46079355478286743,\n",
       "  -0.26070430874824524,\n",
       "  -0.3001042306423187,\n",
       "  1.5704208612442017,\n",
       "  -0.27031660079956055,\n",
       "  0.150499626994133,\n",
       "  -1.1309722661972046,\n",
       "  1.9804826974868774),\n",
       " 'ColourTemperature': 2602,\n",
       " 'ColourGains': (1.225428819656372, 3.409803628921509),\n",
       " 'DigitalGain': 1.001305341720581,\n",
       " 'SensorTimestamp': 3461404987874000,\n",
       " 'AfPauseState': 0,\n",
       " 'AnalogueGain': 2.8287293910980225,\n",
       " 'FrameWallClock': 1744165171680613,\n",
       " 'AeLocked': False,\n",
       " 'AfState': 2,\n",
       " 'ScalerCrop': (576, 0, 3456, 2592),\n",
       " 'SensorTemperature': 40.0,\n",
       " 'LensPosition': 3.178825616836548,\n",
       " 'FocusFoM': 3020,\n",
       " 'Lux': 65.20459747314453,\n",
       " 'FrameDuration': 69669}"
      ]
     },
     "execution_count": 6,
     "metadata": {},
     "output_type": "execute_result"
    }
   ],
   "source": [
    "picam2.switch_mode_and_capture_file(\"still\", \"test_full.jpg\")"
   ]
  },
  {
   "cell_type": "code",
   "execution_count": null,
   "id": "457110a8",
   "metadata": {},
   "outputs": [],
   "source": []
  }
 ],
 "metadata": {
  "kernelspec": {
   "display_name": "Python 3 (ipykernel)",
   "language": "python",
   "name": "python3"
  },
  "language_info": {
   "codemirror_mode": {
    "name": "ipython",
    "version": 3
   },
   "file_extension": ".py",
   "mimetype": "text/x-python",
   "name": "python",
   "nbconvert_exporter": "python",
   "pygments_lexer": "ipython3",
   "version": "3.11.2"
  }
 },
 "nbformat": 4,
 "nbformat_minor": 5
}
